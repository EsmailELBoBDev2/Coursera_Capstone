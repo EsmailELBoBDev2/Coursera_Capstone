{
 "cells": [
  {
   "cell_type": "markdown",
   "metadata": {},
   "source": [
    "# Introduction where you discuss the business problem and who would be interested in this project."
   ]
  },
  {
   "cell_type": "markdown",
   "metadata": {},
   "source": [
    "* **The business problem**:\n",
    "I am McDonald's owner and i want to expand my branches all over Egypt but i will start with the captial first (Cairo) and my problem that i don't know exactly where is my next branch going to be.\n",
    "\n",
    "* **Who would be interested in this project**:\n",
    "Pretty much anyone want to open in new place. banks, restaurants, anything!"
   ]
  },
  {
   "cell_type": "markdown",
   "metadata": {},
   "source": [
    "___"
   ]
  },
  {
   "cell_type": "markdown",
   "metadata": {},
   "source": [
    "# Data where you describe the data that will be used to solve the problem and the source of the data."
   ]
  },
  {
   "cell_type": "markdown",
   "metadata": {},
   "source": [
    "I'm going to use the https://wego.here.com/ API (i don't know why but https://foursquare.com/ was bad with me and does not show the full results so i had to search on another API). i'm going to search for the McDonald's branches in egypt then map it and also our competitors to decide where exactly your branch going to be."
   ]
  },
  {
   "cell_type": "markdown",
   "metadata": {},
   "source": [
    "___"
   ]
  },
  {
   "cell_type": "markdown",
   "metadata": {},
   "source": [
    "# Methodology section which represents the main component of the report where you discuss and describe any exploratory data analysis that you did, any inferential statistical testing that you performed, if any, and what machine learnings were used and why."
   ]
  },
  {
   "cell_type": "markdown",
   "metadata": {},
   "source": [
    "McDonald's has good amout of branches already (according to **[HERE](http://i.imgur.com/UAr44Oy.png)**) but who does not love to expand and earning more money? so in this report, i tried my best to gather ideas and data to give you the full or at least the almost full image to pick our next place. so i did my analytics using the here we go maps API and mapped around 30 locations! and i noticed a very weird pattern, that us and our competitors dod, got a multi branches and its numbers do not get higher than 3 branches, i don't know why yet but it's good, as you can see **[HERE](https://i.imgur.com/IKv88NC.png)**, and same applys about our competitors (*KFC*) as you can see it **[HERE](https://i.imgur.com/iqCRGPI.png)**. So i had that idea weird idea that it's about sending a message that it's our place, we got 3 branches go somewhere. so according to my data and analytics, it's gonaa be good idea to open more branches in places that we are already opened to send the same message to them. so i would say our next place to open a bransh that any city that got less than 3 branches as it showed **[HERE](https://i.imgur.com/1qYtD8e.png)** and **[HERE](https://i.imgur.com/GxbDDCC.png)** (*red = McDonald's, yellow = KFC*)"
   ]
  },
  {
   "cell_type": "markdown",
   "metadata": {},
   "source": [
    "___"
   ]
  },
  {
   "cell_type": "markdown",
   "metadata": {},
   "source": [
    "# Results section where you discuss the results."
   ]
  },
  {
   "cell_type": "markdown",
   "metadata": {},
   "source": [
    "From my analytics i think open places that we got branches at already, going to be better for us!"
   ]
  },
  {
   "cell_type": "markdown",
   "metadata": {},
   "source": [
    "___"
   ]
  },
  {
   "cell_type": "markdown",
   "metadata": {},
   "source": [
    "# Discussion section where you discuss any observations you noted and any recommendations you can make based on the results."
   ]
  },
  {
   "cell_type": "markdown",
   "metadata": {},
   "source": [
    "I see that KFC got around 3 branches in some places like Abdeen as maximum and literally no other city got over 3 branches so it's like a weird pattern? so i would suggest that we do the same and we open in places that we already got 1 or 2 branches as a sign to tell our competitors that this place is taken for us because of course you don't want to open in place where is there 3 other braches of competitors (KFC). so as i said opening in places that where we are already got 1 or 2 branches going to be more good or even open in place that at least we got already 1 bransh and then open in new place to be the first in that new city then come back and open in place we areagy got branch and so on"
   ]
  },
  {
   "cell_type": "markdown",
   "metadata": {},
   "source": [
    "# Conclusion section where you conclude the report."
   ]
  },
  {
   "cell_type": "markdown",
   "metadata": {},
   "source": [
    "At the end, i think opening in places that we got at least 1 branch going to be good for us!\n",
    "___\n",
    "***HERE ARE MORE DATA YOU MIGHT FIND IT USEFUL:***\n",
    "* **[McDonald's](https://imgur.com/a/ygEJfQg)**\n",
    "* **[KFC](https://imgur.com/a/xYIwN0F)**\n",
    "* **[The both data together](https://imgur.com/a/S1k86yu)**\n",
    "___\n",
    "Thanks for reading it! Have a nice day :D"
   ]
  }
 ],
 "metadata": {
  "kernelspec": {
   "display_name": "Python",
   "language": "python",
   "name": "conda-env-python-py"
  },
  "language_info": {
   "codemirror_mode": {
    "name": "ipython",
    "version": 3
   },
   "file_extension": ".py",
   "mimetype": "text/x-python",
   "name": "python",
   "nbconvert_exporter": "python",
   "pygments_lexer": "ipython3",
   "version": "3.6.11"
  }
 },
 "nbformat": 4,
 "nbformat_minor": 4
}
