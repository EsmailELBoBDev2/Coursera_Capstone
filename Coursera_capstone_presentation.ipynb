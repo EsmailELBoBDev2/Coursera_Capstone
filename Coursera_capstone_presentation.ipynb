{
 "cells": [
  {
   "cell_type": "markdown",
   "metadata": {},
   "source": [
    "# Introduction where you discuss the business problem and who would be interested in this project."
   ]
  },
  {
   "cell_type": "markdown",
   "metadata": {},
   "source": [
    "* **The business problem**:\n",
    "I am McDonald's owner (*don't laugh, lol*) and i want to expand my branches all over Egypt but i will start with the captial first (Cairo) and my problem that i don't know exactly where is my next branch gonna be.\n",
    "\n",
    "* **Who would be interested in this project**:\n",
    "Pretty much anyone wanna to open in new place. banks, restaurants, anything!"
   ]
  },
  {
   "cell_type": "markdown",
   "metadata": {},
   "source": [
    "___"
   ]
  },
  {
   "cell_type": "markdown",
   "metadata": {},
   "source": [
    "# Data where you describe the data that will be used to solve the problem and the source of the data."
   ]
  },
  {
   "cell_type": "markdown",
   "metadata": {},
   "source": [
    "I will use the https://wego.here.com/ API (i don't know, https://foursquare.com/ was acting bad with me and does not show the full results so i had to search on another alt). i'm going to search for the McDonald's shops in egypt then map them and if i can cluster them (if some are in same place) and see which part of the map seems not have any or few"
   ]
  },
  {
   "cell_type": "markdown",
   "metadata": {},
   "source": [
    "___"
   ]
  },
  {
   "cell_type": "markdown",
   "metadata": {},
   "source": [
    "# Methodology section which represents the main component of the report where you discuss and describe any exploratory data analysis that you did, any inferential statistical testing that you performed, if any, and what machine learnings were used and why."
   ]
  },
  {
   "cell_type": "markdown",
   "metadata": {},
   "source": [
    "McDonald's has good amout of branches (according to **[HERE](http://i.imgur.com/UAr44Oy.png)**) but who does not love expanding and earning more money? not me for sure haha so in this report, i tried my best to gather ideas and data to give you the full or almost the full image. so i did my analytics using the here we go maps and mapped around 30 location for my PC specs sake! and i noticed a VERY weird pattern, that us and our competitors got multi branches and its numbers do not get higher than 3 numbers, i don't know why but that's what the data telling me, as you can see **[HERE](https://i.imgur.com/IKv88NC.png)**, and same apply about our competitors (*KFC, evil laugh*) as you can see it **[HERE](https://i.imgur.com/iqCRGPI.png)**. So i had that idea it's like way to tell like fuck off you know? like hey we got in this city 3 branches, go to somewhere else and to be honest with you it's bad idea to compete with competitor big and famous like KFC for example! so according to my data and analytics, it's gonaa be good idea to open more branches in place that we are already opened to send the same message to our competitors to stop them from expanding in our places, near from our branches. so i would say our next place to open a bransh that any city that got less than 3 branches as it showed **[HERE](https://i.imgur.com/1qYtD8e.png)** and **[HERE](https://i.imgur.com/GxbDDCC.png)** (*red = McDonald's, yellow = KFC*)"
   ]
  },
  {
   "cell_type": "markdown",
   "metadata": {},
   "source": [
    "___"
   ]
  },
  {
   "cell_type": "markdown",
   "metadata": {},
   "source": [
    "# Results section where you discuss the results."
   ]
  },
  {
   "cell_type": "markdown",
   "metadata": {},
   "source": [
    "From my analytics i think opening in already places that we got branches at, going to help us a lot!"
   ]
  },
  {
   "cell_type": "markdown",
   "metadata": {},
   "source": [
    "___"
   ]
  },
  {
   "cell_type": "markdown",
   "metadata": {},
   "source": [
    "# Discussion section where you discuss any observations you noted and any recommendations you can make based on the results."
   ]
  },
  {
   "cell_type": "markdown",
   "metadata": {},
   "source": [
    "I see that KFC got 3 branches in some places like Abdeen for example so it's like a pattern? so i would suggest we open in places that we already got 1 or 2 branches as a sign to tell our competitors that this place is taken for us because of course you dont want to open in place where is 3 other competitors  (KFC) already in there. so as i said open in places where we already got 1 or 2 branches going to be more good or even open in place that at least we got already 1 bransh and then open in new place to be the first in that new city then come back and open in place we areagy got branch and so on"
   ]
  },
  {
   "cell_type": "markdown",
   "metadata": {},
   "source": [
    "# Conclusion section where you conclude the report."
   ]
  },
  {
   "cell_type": "markdown",
   "metadata": {},
   "source": [
    "At the end, i think opening in places that we got at least 1 branch going to be good for us!\n",
    "___\n",
    "***HERE ARE MORE DATA YOU MIGHT FIND IT USEFUL:***\n",
    "* **[McDonald's](https://imgur.com/a/ygEJfQg)**\n",
    "* **[KFC](https://imgur.com/a/xYIwN0F)**\n",
    "* **[The both data together](https://imgur.com/a/S1k86yu)**\n",
    "___\n",
    "Thanks for reading it! Have a nice day :D"
   ]
  }
 ],
 "metadata": {
  "kernelspec": {
   "display_name": "Python",
   "language": "python",
   "name": "conda-env-python-py"
  },
  "language_info": {
   "codemirror_mode": {
    "name": "ipython",
    "version": 3
   },
   "file_extension": ".py",
   "mimetype": "text/x-python",
   "name": "python",
   "nbconvert_exporter": "python",
   "pygments_lexer": "ipython3",
   "version": "3.6.11"
  }
 },
 "nbformat": 4,
 "nbformat_minor": 4
}
